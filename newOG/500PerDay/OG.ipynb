{
 "cells": [
  {
   "cell_type": "code",
   "execution_count": 1,
   "metadata": {},
   "outputs": [],
   "source": [
    "import pandas as pd"
   ]
  },
  {
   "cell_type": "code",
   "execution_count": 2,
   "metadata": {},
   "outputs": [
    {
     "data": {
      "text/html": [
       "<div>\n",
       "<style scoped>\n",
       "    .dataframe tbody tr th:only-of-type {\n",
       "        vertical-align: middle;\n",
       "    }\n",
       "\n",
       "    .dataframe tbody tr th {\n",
       "        vertical-align: top;\n",
       "    }\n",
       "\n",
       "    .dataframe thead th {\n",
       "        text-align: right;\n",
       "    }\n",
       "</style>\n",
       "<table border=\"1\" class=\"dataframe\">\n",
       "  <thead>\n",
       "    <tr style=\"text-align: right;\">\n",
       "      <th></th>\n",
       "      <th>Unnamed: 0</th>\n",
       "      <th>word</th>\n",
       "      <th>Unnamed: 2</th>\n",
       "      <th>Unnamed: 3</th>\n",
       "    </tr>\n",
       "  </thead>\n",
       "  <tbody>\n",
       "    <tr>\n",
       "      <th>0</th>\n",
       "      <td>5</td>\n",
       "      <td>dissent</td>\n",
       "      <td>n. 意见不一致，意见分歧; 不同意，持异议</td>\n",
       "      <td>0.645343</td>\n",
       "    </tr>\n",
       "    <tr>\n",
       "      <th>1</th>\n",
       "      <td>5</td>\n",
       "      <td>crumble</td>\n",
       "      <td>v. 把…弄成碎屑；弄碎;  失\\n败；崩溃</td>\n",
       "      <td>0.943023</td>\n",
       "    </tr>\n",
       "    <tr>\n",
       "      <th>2</th>\n",
       "      <td>5</td>\n",
       "      <td>dabble</td>\n",
       "      <td>v. 涉猎；浅尝</td>\n",
       "      <td>0.339290</td>\n",
       "    </tr>\n",
       "    <tr>\n",
       "      <th>3</th>\n",
       "      <td>5</td>\n",
       "      <td>coagulate</td>\n",
       "      <td>v.  凝结，凝固</td>\n",
       "      <td>0.012463</td>\n",
       "    </tr>\n",
       "    <tr>\n",
       "      <th>4</th>\n",
       "      <td>5</td>\n",
       "      <td>consummate</td>\n",
       "      <td>adj. 造诣极高的;技艺精湛的;\\n炉火纯青的 \\nv. 实现；实现；完成；结束</td>\n",
       "      <td>0.374969</td>\n",
       "    </tr>\n",
       "    <tr>\n",
       "      <th>5</th>\n",
       "      <td>5</td>\n",
       "      <td>disseminate</td>\n",
       "      <td>v. 散布；公布</td>\n",
       "      <td>0.414847</td>\n",
       "    </tr>\n",
       "    <tr>\n",
       "      <th>6</th>\n",
       "      <td>5</td>\n",
       "      <td>decimate</td>\n",
       "      <td>v. 大批杀死；大量毁灭；严重\\n削弱，大幅缩减(系统或机构)</td>\n",
       "      <td>0.179967</td>\n",
       "    </tr>\n",
       "    <tr>\n",
       "      <th>7</th>\n",
       "      <td>5</td>\n",
       "      <td>convalesce</td>\n",
       "      <td>v. 渐渐康复；渐愈</td>\n",
       "      <td>0.919318</td>\n",
       "    </tr>\n",
       "    <tr>\n",
       "      <th>8</th>\n",
       "      <td>5</td>\n",
       "      <td>crux</td>\n",
       "      <td>n. 关键点，症结</td>\n",
       "      <td>0.529657</td>\n",
       "    </tr>\n",
       "    <tr>\n",
       "      <th>9</th>\n",
       "      <td>5</td>\n",
       "      <td>daunt</td>\n",
       "      <td>v. 吓倒；使气馁</td>\n",
       "      <td>0.449127</td>\n",
       "    </tr>\n",
       "    <tr>\n",
       "      <th>10</th>\n",
       "      <td>5</td>\n",
       "      <td>curt</td>\n",
       "      <td>adj. 简短而失礼的；唐突无\\n礼的; 简洁的；精确的</td>\n",
       "      <td>0.979728</td>\n",
       "    </tr>\n",
       "    <tr>\n",
       "      <th>11</th>\n",
       "      <td>5</td>\n",
       "      <td>crave</td>\n",
       "      <td>v. 渴望；热望</td>\n",
       "      <td>0.776060</td>\n",
       "    </tr>\n",
       "    <tr>\n",
       "      <th>12</th>\n",
       "      <td>5</td>\n",
       "      <td>convene</td>\n",
       "      <td>v. 集会；聚集；召集；传唤...出庭受审，票传</td>\n",
       "      <td>0.369748</td>\n",
       "    </tr>\n",
       "    <tr>\n",
       "      <th>13</th>\n",
       "      <td>5</td>\n",
       "      <td>drab</td>\n",
       "      <td>adj. 单调乏味的；缺乏生气的</td>\n",
       "      <td>0.419927</td>\n",
       "    </tr>\n",
       "    <tr>\n",
       "      <th>14</th>\n",
       "      <td>5</td>\n",
       "      <td>distressing</td>\n",
       "      <td>adj. 使人痛苦的；令人烦恼\\n的</td>\n",
       "      <td>0.515513</td>\n",
       "    </tr>\n",
       "    <tr>\n",
       "      <th>15</th>\n",
       "      <td>5</td>\n",
       "      <td>cosset</td>\n",
       "      <td>v. 宠爱；溺爱；珍爱</td>\n",
       "      <td>0.461931</td>\n",
       "    </tr>\n",
       "    <tr>\n",
       "      <th>16</th>\n",
       "      <td>5</td>\n",
       "      <td>contiguous</td>\n",
       "      <td>adj. 接触的; 边界的; 邻近的；\\n连续的，不间断的</td>\n",
       "      <td>0.526786</td>\n",
       "    </tr>\n",
       "    <tr>\n",
       "      <th>17</th>\n",
       "      <td>5</td>\n",
       "      <td>debris</td>\n",
       "      <td>n. （被毁物的）残骸；碎片；\\n垃圾</td>\n",
       "      <td>0.307228</td>\n",
       "    </tr>\n",
       "    <tr>\n",
       "      <th>18</th>\n",
       "      <td>5</td>\n",
       "      <td>convoke</td>\n",
       "      <td>v. 召集</td>\n",
       "      <td>0.155671</td>\n",
       "    </tr>\n",
       "    <tr>\n",
       "      <th>19</th>\n",
       "      <td>5</td>\n",
       "      <td>dashing</td>\n",
       "      <td>adj. 闯劲足的；精力充沛的;\\n时髦的；漂亮的</td>\n",
       "      <td>0.383999</td>\n",
       "    </tr>\n",
       "    <tr>\n",
       "      <th>20</th>\n",
       "      <td>5</td>\n",
       "      <td>compendium</td>\n",
       "      <td>n. 概要；简编</td>\n",
       "      <td>0.935433</td>\n",
       "    </tr>\n",
       "    <tr>\n",
       "      <th>21</th>\n",
       "      <td>5</td>\n",
       "      <td>dissertation</td>\n",
       "      <td>n. 专题论文；学位论文</td>\n",
       "      <td>0.180276</td>\n",
       "    </tr>\n",
       "    <tr>\n",
       "      <th>22</th>\n",
       "      <td>5</td>\n",
       "      <td>defalcate</td>\n",
       "      <td>v. 挪用公款；盗用或侵吞公款</td>\n",
       "      <td>0.191852</td>\n",
       "    </tr>\n",
       "    <tr>\n",
       "      <th>23</th>\n",
       "      <td>5</td>\n",
       "      <td>commotion</td>\n",
       "      <td>n. 喧闹</td>\n",
       "      <td>0.820931</td>\n",
       "    </tr>\n",
       "    <tr>\n",
       "      <th>24</th>\n",
       "      <td>5</td>\n",
       "      <td>connive</td>\n",
       "      <td>v. 串通；共谋；纵容，默许</td>\n",
       "      <td>0.952048</td>\n",
       "    </tr>\n",
       "    <tr>\n",
       "      <th>25</th>\n",
       "      <td>5</td>\n",
       "      <td>devolve</td>\n",
       "      <td>v. 移交，委托</td>\n",
       "      <td>0.783224</td>\n",
       "    </tr>\n",
       "    <tr>\n",
       "      <th>26</th>\n",
       "      <td>5</td>\n",
       "      <td>discursive</td>\n",
       "      <td>adj. 离题的；东拉西扯的；不\\n着边际的</td>\n",
       "      <td>0.019737</td>\n",
       "    </tr>\n",
       "    <tr>\n",
       "      <th>27</th>\n",
       "      <td>5</td>\n",
       "      <td>deprave</td>\n",
       "      <td>v. 使堕落；使腐化；使败坏</td>\n",
       "      <td>0.231404</td>\n",
       "    </tr>\n",
       "    <tr>\n",
       "      <th>28</th>\n",
       "      <td>5</td>\n",
       "      <td>conjure</td>\n",
       "      <td>v. 想起，唤起；变魔术般地创\\n造出或影响</td>\n",
       "      <td>0.643150</td>\n",
       "    </tr>\n",
       "    <tr>\n",
       "      <th>29</th>\n",
       "      <td>5</td>\n",
       "      <td>dissident</td>\n",
       "      <td>adj.有不同意见的人；持不同政见的\\nn.意见不同的人</td>\n",
       "      <td>NaN</td>\n",
       "    </tr>\n",
       "    <tr>\n",
       "      <th>30</th>\n",
       "      <td>5</td>\n",
       "      <td>dissipate</td>\n",
       "      <td>v. 使消散，驱散; 浪费，挥霍;\\n用完，耗尽</td>\n",
       "      <td>0.993726</td>\n",
       "    </tr>\n",
       "    <tr>\n",
       "      <th>31</th>\n",
       "      <td>5</td>\n",
       "      <td>desolate</td>\n",
       "      <td>adj. 凄凉的；废弃的; 凄凉\\n的；孤寂的；孤独忧伤的</td>\n",
       "      <td>0.237287</td>\n",
       "    </tr>\n",
       "    <tr>\n",
       "      <th>32</th>\n",
       "      <td>5</td>\n",
       "      <td>consort</td>\n",
       "      <td>v. 符合，与…一致；陪伴，\\n结交</td>\n",
       "      <td>0.242568</td>\n",
       "    </tr>\n",
       "    <tr>\n",
       "      <th>33</th>\n",
       "      <td>5</td>\n",
       "      <td>corrosive</td>\n",
       "      <td>adj. 恶意讽刺的；逐渐起破\\n坏作用的；损害性的；逐 渐起破坏作用的；损害性 的</td>\n",
       "      <td>0.048431</td>\n",
       "    </tr>\n",
       "    <tr>\n",
       "      <th>34</th>\n",
       "      <td>5</td>\n",
       "      <td>consternation</td>\n",
       "      <td>n. 惊愕，惊骇</td>\n",
       "      <td>0.001652</td>\n",
       "    </tr>\n",
       "    <tr>\n",
       "      <th>35</th>\n",
       "      <td>5</td>\n",
       "      <td>divest</td>\n",
       "      <td>v. 剥除；剥夺</td>\n",
       "      <td>0.790908</td>\n",
       "    </tr>\n",
       "    <tr>\n",
       "      <th>36</th>\n",
       "      <td>5</td>\n",
       "      <td>clangor</td>\n",
       "      <td>n. 大声喧哗；喧闹</td>\n",
       "      <td>0.811176</td>\n",
       "    </tr>\n",
       "    <tr>\n",
       "      <th>37</th>\n",
       "      <td>5</td>\n",
       "      <td>compress</td>\n",
       "      <td>v. 使简练；缩短; 压缩，缩短(时间); 压缩，缩小，缩短</td>\n",
       "      <td>0.382997</td>\n",
       "    </tr>\n",
       "    <tr>\n",
       "      <th>38</th>\n",
       "      <td>5</td>\n",
       "      <td>clout</td>\n",
       "      <td>n. 影响力；权势</td>\n",
       "      <td>0.281418</td>\n",
       "    </tr>\n",
       "    <tr>\n",
       "      <th>39</th>\n",
       "      <td>5</td>\n",
       "      <td>crow</td>\n",
       "      <td>v. 打鸣，啼叫; 欢呼，吹嘘</td>\n",
       "      <td>0.448104</td>\n",
       "    </tr>\n",
       "    <tr>\n",
       "      <th>40</th>\n",
       "      <td>5</td>\n",
       "      <td>constringe</td>\n",
       "      <td>v. 使收缩；压缩</td>\n",
       "      <td>0.327751</td>\n",
       "    </tr>\n",
       "    <tr>\n",
       "      <th>41</th>\n",
       "      <td>5</td>\n",
       "      <td>dissect</td>\n",
       "      <td>v. 仔细分析；细心研究</td>\n",
       "      <td>0.735945</td>\n",
       "    </tr>\n",
       "    <tr>\n",
       "      <th>42</th>\n",
       "      <td>5</td>\n",
       "      <td>crook</td>\n",
       "      <td>v. 使弯曲，使成钩形\\nn. 骗子；罪犯</td>\n",
       "      <td>0.672185</td>\n",
       "    </tr>\n",
       "    <tr>\n",
       "      <th>43</th>\n",
       "      <td>5</td>\n",
       "      <td>discomfit</td>\n",
       "      <td>v. 使困惑；使窘迫；使尴尬</td>\n",
       "      <td>0.781314</td>\n",
       "    </tr>\n",
       "    <tr>\n",
       "      <th>44</th>\n",
       "      <td>5</td>\n",
       "      <td>deceit</td>\n",
       "      <td>v. 诡计；骗人的伎俩；欺骗；欺诈</td>\n",
       "      <td>0.421310</td>\n",
       "    </tr>\n",
       "    <tr>\n",
       "      <th>45</th>\n",
       "      <td>5</td>\n",
       "      <td>compendious</td>\n",
       "      <td>adj. 简洁的，扼要的</td>\n",
       "      <td>0.013108</td>\n",
       "    </tr>\n",
       "    <tr>\n",
       "      <th>46</th>\n",
       "      <td>5</td>\n",
       "      <td>crutch</td>\n",
       "      <td>n./v. 支柱；支撑</td>\n",
       "      <td>0.613359</td>\n",
       "    </tr>\n",
       "    <tr>\n",
       "      <th>47</th>\n",
       "      <td>5</td>\n",
       "      <td>deterrent</td>\n",
       "      <td>n. 威慑力量；威慑因素；遏\\n制物</td>\n",
       "      <td>0.808601</td>\n",
       "    </tr>\n",
       "    <tr>\n",
       "      <th>48</th>\n",
       "      <td>5</td>\n",
       "      <td>defamatory</td>\n",
       "      <td>adj. 诬蔑的；诽谤的；中伤\\n的</td>\n",
       "      <td>0.290262</td>\n",
       "    </tr>\n",
       "    <tr>\n",
       "      <th>49</th>\n",
       "      <td>5</td>\n",
       "      <td>countenance</td>\n",
       "      <td>n. 面容，面部表情\\nv. 支持；同意；宽恕</td>\n",
       "      <td>0.961868</td>\n",
       "    </tr>\n",
       "  </tbody>\n",
       "</table>\n",
       "</div>"
      ],
      "text/plain": [
       "    Unnamed: 0           word                                  Unnamed: 2  \\\n",
       "0            5        dissent                      n. 意见不一致，意见分歧; 不同意，持异议   \n",
       "1            5        crumble                      v. 把…弄成碎屑；弄碎;  失\\n败；崩溃   \n",
       "2            5         dabble                                    v. 涉猎；浅尝   \n",
       "3            5      coagulate                                   v.  凝结，凝固   \n",
       "4            5     consummate   adj. 造诣极高的;技艺精湛的;\\n炉火纯青的 \\nv. 实现；实现；完成；结束   \n",
       "5            5    disseminate                                    v. 散布；公布   \n",
       "6            5       decimate             v. 大批杀死；大量毁灭；严重\\n削弱，大幅缩减(系统或机构)   \n",
       "7            5     convalesce                                  v. 渐渐康复；渐愈   \n",
       "8            5           crux                                   n. 关键点，症结   \n",
       "9            5          daunt                                   v. 吓倒；使气馁   \n",
       "10           5           curt                adj. 简短而失礼的；唐突无\\n礼的; 简洁的；精确的   \n",
       "11           5          crave                                    v. 渴望；热望   \n",
       "12           5        convene                    v. 集会；聚集；召集；传唤...出庭受审，票传   \n",
       "13           5           drab                            adj. 单调乏味的；缺乏生气的   \n",
       "14           5    distressing                          adj. 使人痛苦的；令人烦恼\\n的   \n",
       "15           5         cosset                                 v. 宠爱；溺爱；珍爱   \n",
       "16           5     contiguous               adj. 接触的; 边界的; 邻近的；\\n连续的，不间断的   \n",
       "17           5         debris                         n. （被毁物的）残骸；碎片；\\n垃圾   \n",
       "18           5        convoke                                       v. 召集   \n",
       "19           5        dashing                   adj. 闯劲足的；精力充沛的;\\n时髦的；漂亮的   \n",
       "20           5     compendium                                    n. 概要；简编   \n",
       "21           5   dissertation                                n. 专题论文；学位论文   \n",
       "22           5      defalcate                             v. 挪用公款；盗用或侵吞公款   \n",
       "23           5      commotion                                       n. 喧闹   \n",
       "24           5        connive                              v. 串通；共谋；纵容，默许   \n",
       "25           5        devolve                                    v. 移交，委托   \n",
       "26           5     discursive                      adj. 离题的；东拉西扯的；不\\n着边际的   \n",
       "27           5        deprave                              v. 使堕落；使腐化；使败坏   \n",
       "28           5        conjure                      v. 想起，唤起；变魔术般地创\\n造出或影响   \n",
       "29           5      dissident                adj.有不同意见的人；持不同政见的\\nn.意见不同的人   \n",
       "30           5      dissipate                    v. 使消散，驱散; 浪费，挥霍;\\n用完，耗尽   \n",
       "31           5       desolate               adj. 凄凉的；废弃的; 凄凉\\n的；孤寂的；孤独忧伤的   \n",
       "32           5        consort                          v. 符合，与…一致；陪伴，\\n结交   \n",
       "33           5      corrosive  adj. 恶意讽刺的；逐渐起破\\n坏作用的；损害性的；逐 渐起破坏作用的；损害性 的   \n",
       "34           5  consternation                                    n. 惊愕，惊骇   \n",
       "35           5         divest                                    v. 剥除；剥夺   \n",
       "36           5        clangor                                  n. 大声喧哗；喧闹   \n",
       "37           5       compress              v. 使简练；缩短; 压缩，缩短(时间); 压缩，缩小，缩短   \n",
       "38           5          clout                                   n. 影响力；权势   \n",
       "39           5           crow                             v. 打鸣，啼叫; 欢呼，吹嘘   \n",
       "40           5     constringe                                   v. 使收缩；压缩   \n",
       "41           5        dissect                                v. 仔细分析；细心研究   \n",
       "42           5          crook                       v. 使弯曲，使成钩形\\nn. 骗子；罪犯   \n",
       "43           5      discomfit                              v. 使困惑；使窘迫；使尴尬   \n",
       "44           5         deceit                           v. 诡计；骗人的伎俩；欺骗；欺诈   \n",
       "45           5    compendious                                adj. 简洁的，扼要的   \n",
       "46           5         crutch                                 n./v. 支柱；支撑   \n",
       "47           5      deterrent                          n. 威慑力量；威慑因素；遏\\n制物   \n",
       "48           5     defamatory                          adj. 诬蔑的；诽谤的；中伤\\n的   \n",
       "49           5    countenance                     n. 面容，面部表情\\nv. 支持；同意；宽恕   \n",
       "\n",
       "    Unnamed: 3  \n",
       "0     0.645343  \n",
       "1     0.943023  \n",
       "2     0.339290  \n",
       "3     0.012463  \n",
       "4     0.374969  \n",
       "5     0.414847  \n",
       "6     0.179967  \n",
       "7     0.919318  \n",
       "8     0.529657  \n",
       "9     0.449127  \n",
       "10    0.979728  \n",
       "11    0.776060  \n",
       "12    0.369748  \n",
       "13    0.419927  \n",
       "14    0.515513  \n",
       "15    0.461931  \n",
       "16    0.526786  \n",
       "17    0.307228  \n",
       "18    0.155671  \n",
       "19    0.383999  \n",
       "20    0.935433  \n",
       "21    0.180276  \n",
       "22    0.191852  \n",
       "23    0.820931  \n",
       "24    0.952048  \n",
       "25    0.783224  \n",
       "26    0.019737  \n",
       "27    0.231404  \n",
       "28    0.643150  \n",
       "29         NaN  \n",
       "30    0.993726  \n",
       "31    0.237287  \n",
       "32    0.242568  \n",
       "33    0.048431  \n",
       "34    0.001652  \n",
       "35    0.790908  \n",
       "36    0.811176  \n",
       "37    0.382997  \n",
       "38    0.281418  \n",
       "39    0.448104  \n",
       "40    0.327751  \n",
       "41    0.735945  \n",
       "42    0.672185  \n",
       "43    0.781314  \n",
       "44    0.421310  \n",
       "45    0.013108  \n",
       "46    0.613359  \n",
       "47    0.808601  \n",
       "48    0.290262  \n",
       "49    0.961868  "
      ]
     },
     "execution_count": 2,
     "metadata": {},
     "output_type": "execute_result"
    }
   ],
   "source": [
    "excel_path = 'Day 2 list6-10-Copy1.xlsx'\n",
    "all_words = pd.read_excel(excel_path)\n",
    "all_words.head(50)\n",
    "# all_words.iloc[,1]\n",
    "# all_words.sort_values(by=['Unnamed: 0'], axis=0, ascending=False)"
   ]
  },
  {
   "cell_type": "code",
   "execution_count": 3,
   "metadata": {},
   "outputs": [],
   "source": [
    "class WordReader(object):\n",
    "    \n",
    "    def __init__(self, excel_path, is_random=False):\n",
    "        self.excel_path = excel_path\n",
    "        self.all_words = pd.read_excel(self.excel_path)\n",
    "        self.words_sorted = self.all_words.sort_values(by=['Unnamed: 0'], axis=0, ascending=False)\n",
    "        self.is_random = is_random\n",
    "        self.len = len(self.all_words)            \n",
    "        \n",
    "    def memorize(self, word_num):\n",
    "        if word_num > self.len:\n",
    "            word_num = self.len\n",
    "        for i in range(word_num):\n",
    "            word = self.words_sorted.iloc[i,1]\n",
    "            mean = self.words_sorted.iloc[i,2]\n",
    "            flag = input(str(i) +':  '+ word)\n",
    "            if flag == 'yes':\n",
    "                print(mean)\n",
    "                continue\n",
    "            elif flag == '':\n",
    "                print(mean)\n",
    "                self.words_sorted.iloc[i,0] += 1\n",
    "                \n",
    "    def sorting(self, top=100):\n",
    "        sorted_ver = self.words_sorted.sort_values(by=['Unnamed: 0'], axis=0, ascending=False)\n",
    "        return sorted_ver.iloc[:top,:]\n",
    "    \n",
    "    def update_excel(self):\n",
    "        sorted_ver = self.words_sorted.sort_values(by=['Unnamed: 0'], axis=0, ascending=False)\n",
    "        sorted_ver.to_excel(self.excel_path, index=False)\n",
    "        print('Excel update done!')"
   ]
  },
  {
   "cell_type": "code",
   "execution_count": 8,
   "metadata": {},
   "outputs": [],
   "source": [
    "day2 = WordReader(\"Day 4 list16-20-Copy1.xlsx\")"
   ]
  },
  {
   "cell_type": "code",
   "execution_count": null,
   "metadata": {},
   "outputs": [
    {
     "name": "stdin",
     "output_type": "stream",
     "text": [
      "0:  imperceptible yes\n"
     ]
    },
    {
     "name": "stdout",
     "output_type": "stream",
     "text": [
      "adj.  察觉不出的，感觉不到的，难\n",
      "以察觉的\n"
     ]
    },
    {
     "name": "stdin",
     "output_type": "stream",
     "text": [
      "1:  loquacious yes\n"
     ]
    },
    {
     "name": "stdout",
     "output_type": "stream",
     "text": [
      "adj.  非常健谈的；多言的\n"
     ]
    },
    {
     "name": "stdin",
     "output_type": "stream",
     "text": [
      "2:  lustrous \n"
     ]
    },
    {
     "name": "stdout",
     "output_type": "stream",
     "text": [
      "adj.  有光泽的；闪亮的；光亮\n",
      "的\n"
     ]
    },
    {
     "name": "stdin",
     "output_type": "stream",
     "text": [
      "3:  lush \n"
     ]
    },
    {
     "name": "stdout",
     "output_type": "stream",
     "text": [
      "adj.  奢华的；富裕的；葱郁的；葱茏的；草木茂盛的\n"
     ]
    },
    {
     "name": "stdin",
     "output_type": "stream",
     "text": [
      "4:  lurid yes\n"
     ]
    },
    {
     "name": "stdout",
     "output_type": "stream",
     "text": [
      "adj.  可怕的；耸人听闻的，触目惊心的\n"
     ]
    },
    {
     "name": "stdin",
     "output_type": "stream",
     "text": [
      "5:  luminous \n"
     ]
    },
    {
     "name": "stdout",
     "output_type": "stream",
     "text": [
      "adj.  明亮的；清楚明白的；\n",
      "启发的\n"
     ]
    },
    {
     "name": "stdin",
     "output_type": "stream",
     "text": [
      "6:  luminary \n"
     ]
    },
    {
     "name": "stdout",
     "output_type": "stream",
     "text": [
      "n.  名人，杰出人物\n"
     ]
    },
    {
     "name": "stdin",
     "output_type": "stream",
     "text": [
      "7:  lull yes\n"
     ]
    },
    {
     "name": "stdout",
     "output_type": "stream",
     "text": [
      "v.  麻痹；使放松警惕；哄\n",
      "骗；间歇，暂时停滞\n"
     ]
    },
    {
     "name": "stdin",
     "output_type": "stream",
     "text": [
      "8:  lukewarm \n"
     ]
    },
    {
     "name": "stdout",
     "output_type": "stream",
     "text": [
      "adj.  不够热心的，冷淡的\n"
     ]
    },
    {
     "name": "stdin",
     "output_type": "stream",
     "text": [
      "9:  lugubrious \n"
     ]
    },
    {
     "name": "stdout",
     "output_type": "stream",
     "text": [
      "adj.  悲戚的；悲伤的\n"
     ]
    },
    {
     "name": "stdin",
     "output_type": "stream",
     "text": [
      "10:  ludicrous \n"
     ]
    },
    {
     "name": "stdout",
     "output_type": "stream",
     "text": [
      "adj.  可笑的，荒唐的\n"
     ]
    },
    {
     "name": "stdin",
     "output_type": "stream",
     "text": [
      "11:  lucrative \n"
     ]
    },
    {
     "name": "stdout",
     "output_type": "stream",
     "text": [
      "adj.  获利的；有利润的\n"
     ]
    },
    {
     "name": "stdin",
     "output_type": "stream",
     "text": [
      "12:  lucidity yes\n"
     ]
    },
    {
     "name": "stdout",
     "output_type": "stream",
     "text": [
      "n.  清晰\n"
     ]
    },
    {
     "name": "stdin",
     "output_type": "stream",
     "text": [
      "13:  lucid yes\n"
     ]
    },
    {
     "name": "stdout",
     "output_type": "stream",
     "text": [
      "adj.  清楚易懂的，明晰的\n"
     ]
    },
    {
     "name": "stdin",
     "output_type": "stream",
     "text": [
      "14:  loquacity yes\n"
     ]
    },
    {
     "name": "stdout",
     "output_type": "stream",
     "text": [
      "n.  多话；饶舌\n"
     ]
    },
    {
     "name": "stdin",
     "output_type": "stream",
     "text": [
      "15:  lopsided yes\n"
     ]
    },
    {
     "name": "stdout",
     "output_type": "stream",
     "text": [
      "adj.  悬殊的；严重不平衡的\n"
     ]
    },
    {
     "name": "stdin",
     "output_type": "stream",
     "text": [
      "16:  lighthearted \n"
     ]
    },
    {
     "name": "stdout",
     "output_type": "stream",
     "text": [
      "adj.  无忧无虑的\n"
     ]
    },
    {
     "name": "stdin",
     "output_type": "stream",
     "text": [
      "17:  long-winded yes\n"
     ]
    },
    {
     "name": "stdout",
     "output_type": "stream",
     "text": [
      "adj.  冗长的；啰嗦的\n"
     ]
    },
    {
     "name": "stdin",
     "output_type": "stream",
     "text": [
      "18:  long-standing \n"
     ]
    },
    {
     "name": "stdout",
     "output_type": "stream",
     "text": [
      "adj.  长期存在的\n"
     ]
    },
    {
     "name": "stdin",
     "output_type": "stream",
     "text": [
      "19:  locus \n"
     ]
    },
    {
     "name": "stdout",
     "output_type": "stream",
     "text": [
      "n.  处所；地方；核心；中\n",
      "心\n"
     ]
    },
    {
     "name": "stdin",
     "output_type": "stream",
     "text": [
      "20:  loathe \n"
     ]
    },
    {
     "name": "stdout",
     "output_type": "stream",
     "text": [
      "v. 厌恶\n"
     ]
    },
    {
     "name": "stdin",
     "output_type": "stream",
     "text": [
      "21:  loath \n"
     ]
    },
    {
     "name": "stdout",
     "output_type": "stream",
     "text": [
      "adj.  不情愿的；勉强的\n"
     ]
    },
    {
     "name": "stdin",
     "output_type": "stream",
     "text": [
      "22:  livestock \n"
     ]
    },
    {
     "name": "stdout",
     "output_type": "stream",
     "text": [
      "n.  家畜；牲畜\n"
     ]
    },
    {
     "name": "stdin",
     "output_type": "stream",
     "text": [
      "23:  little yes\n"
     ]
    },
    {
     "name": "stdout",
     "output_type": "stream",
     "text": [
      "adv.  很少地；几乎不；一\n",
      "点也不；根本不\n"
     ]
    },
    {
     "name": "stdin",
     "output_type": "stream",
     "text": [
      "24:  literature yes\n"
     ]
    },
    {
     "name": "stdout",
     "output_type": "stream",
     "text": [
      "n.  文学\n"
     ]
    },
    {
     "name": "stdin",
     "output_type": "stream",
     "text": [
      "25:  literal yes\n"
     ]
    },
    {
     "name": "stdout",
     "output_type": "stream",
     "text": [
      "adj.  真实的，避免比喻的\n",
      "（直接的）；逐字的；照字 面的\n"
     ]
    },
    {
     "name": "stdin",
     "output_type": "stream",
     "text": [
      "26:  literacy yes\n"
     ]
    },
    {
     "name": "stdout",
     "output_type": "stream",
     "text": [
      "n.   读写能力，识字\n"
     ]
    },
    {
     "name": "stdin",
     "output_type": "stream",
     "text": [
      "27:  lionize \n"
     ]
    },
    {
     "name": "stdout",
     "output_type": "stream",
     "text": [
      "v.  把…视作或捧为名人\n"
     ]
    },
    {
     "name": "stdin",
     "output_type": "stream",
     "text": [
      "28:  linger \n"
     ]
    },
    {
     "name": "stdout",
     "output_type": "stream",
     "text": [
      "v.  动作迟缓；磨蹭；拖沓；\n",
      "继续停留；徘徊\n"
     ]
    },
    {
     "name": "stdin",
     "output_type": "stream",
     "text": [
      "29:  limitation yes\n"
     ]
    },
    {
     "name": "stdout",
     "output_type": "stream",
     "text": [
      "n.  起限制作用的规则（或情况）\n"
     ]
    },
    {
     "name": "stdin",
     "output_type": "stream",
     "text": [
      "30:  luxuriant \n"
     ]
    },
    {
     "name": "stdout",
     "output_type": "stream",
     "text": [
      "adj.  丰饶的；奢侈的\n"
     ]
    },
    {
     "name": "stdin",
     "output_type": "stream",
     "text": [
      "31:  luxurious \n"
     ]
    },
    {
     "name": "stdout",
     "output_type": "stream",
     "text": [
      "adj.  舒适的；豪华的；奢侈的\n"
     ]
    },
    {
     "name": "stdin",
     "output_type": "stream",
     "text": [
      "32:  lyric yes\n"
     ]
    },
    {
     "name": "stdout",
     "output_type": "stream",
     "text": [
      "adj.  抒情（诗）的\n"
     ]
    },
    {
     "name": "stdin",
     "output_type": "stream",
     "text": [
      "33:  madden \n"
     ]
    },
    {
     "name": "stdout",
     "output_type": "stream",
     "text": [
      "v.  使生气；激怒\n"
     ]
    },
    {
     "name": "stdin",
     "output_type": "stream",
     "text": [
      "34:  maniacal \n"
     ]
    },
    {
     "name": "stdout",
     "output_type": "stream",
     "text": [
      "adj.  狂热的；发狂的；狂\n",
      "乱的\n"
     ]
    },
    {
     "name": "stdin",
     "output_type": "stream",
     "text": [
      "35:  mandatory yes\n"
     ]
    },
    {
     "name": "stdout",
     "output_type": "stream",
     "text": [
      "adj.  强制性的；法定的；义务\n",
      "的\n"
     ]
    },
    {
     "name": "stdin",
     "output_type": "stream",
     "text": [
      "36:  mandate yes\n"
     ]
    },
    {
     "name": "stdout",
     "output_type": "stream",
     "text": [
      "n.  批准；颁布；强制执行；\n",
      "任期；在任期；统治期\n"
     ]
    },
    {
     "name": "stdin",
     "output_type": "stream",
     "text": [
      "37:  manageable yes\n"
     ]
    },
    {
     "name": "stdout",
     "output_type": "stream",
     "text": [
      "adj.  容易管理的；容易对付的\n"
     ]
    },
    {
     "name": "stdin",
     "output_type": "stream",
     "text": [
      "38:  manage yes\n"
     ]
    },
    {
     "name": "stdout",
     "output_type": "stream",
     "text": [
      "v.  设法做到；成功完成；\n",
      "管理，经营；控制\n"
     ]
    },
    {
     "name": "stdin",
     "output_type": "stream",
     "text": [
      "39:  malpractice \n"
     ]
    },
    {
     "name": "stdout",
     "output_type": "stream",
     "text": [
      "n.营私舞弊；玩忽职守；渎职\n"
     ]
    },
    {
     "name": "stdin",
     "output_type": "stream",
     "text": [
      "40:  malnutrition \n"
     ]
    },
    {
     "name": "stdout",
     "output_type": "stream",
     "text": [
      "n. 营养不良\n"
     ]
    },
    {
     "name": "stdin",
     "output_type": "stream",
     "text": [
      "41:  malleable \n"
     ]
    },
    {
     "name": "stdout",
     "output_type": "stream",
     "text": [
      "adj.  温顺的，易受影响的，顺\n",
      "从的；易适应的；适应的；柔 软的，可塑的，有延展性的\n"
     ]
    },
    {
     "name": "stdin",
     "output_type": "stream",
     "text": [
      "42:  malignant \n"
     ]
    },
    {
     "name": "stdout",
     "output_type": "stream",
     "text": [
      "adj.（人）恶意的，恶毒的；\n",
      "致命的；恶性的\n"
     ]
    },
    {
     "name": "stdin",
     "output_type": "stream",
     "text": [
      "43:  malign \n"
     ]
    },
    {
     "name": "stdout",
     "output_type": "stream",
     "text": [
      "v.  诽谤；中伤；污蔑\n",
      "adj.  有害的；不良的\n"
     ]
    },
    {
     "name": "stdin",
     "output_type": "stream",
     "text": [
      "44:  malicious \n"
     ]
    },
    {
     "name": "stdout",
     "output_type": "stream",
     "text": [
      "adj.  怀恶意的；恶毒的\n"
     ]
    },
    {
     "name": "stdin",
     "output_type": "stream",
     "text": [
      "45:  malevolent \n"
     ]
    },
    {
     "name": "stdout",
     "output_type": "stream",
     "text": [
      "adj.  狠毒的；恶毒的；存心不\n",
      "良的\n"
     ]
    },
    {
     "name": "stdin",
     "output_type": "stream",
     "text": [
      "46:  malcontent \n"
     ]
    },
    {
     "name": "stdout",
     "output_type": "stream",
     "text": [
      "adj.  不服的，不满的；不\n",
      "满现状者，反叛者\n"
     ]
    },
    {
     "name": "stdin",
     "output_type": "stream",
     "text": [
      "47:  malady yes\n"
     ]
    },
    {
     "name": "stdout",
     "output_type": "stream",
     "text": [
      "n.  混乱，弊病，弊端；病；\n",
      "疾病\n"
     ]
    },
    {
     "name": "stdin",
     "output_type": "stream",
     "text": [
      "48:  maladroit \n"
     ]
    },
    {
     "name": "stdout",
     "output_type": "stream",
     "text": [
      "adj.  不灵巧的；笨拙的；\n",
      "迟钝的\n"
     ]
    },
    {
     "name": "stdin",
     "output_type": "stream",
     "text": [
      "49:  makeshift \n"
     ]
    },
    {
     "name": "stdout",
     "output_type": "stream",
     "text": [
      "n./adj.  权宜之计，权宜的；临\n",
      "时凑合的\n"
     ]
    },
    {
     "name": "stdin",
     "output_type": "stream",
     "text": [
      "50:  majestic \n"
     ]
    },
    {
     "name": "stdout",
     "output_type": "stream",
     "text": [
      "adj.  宏伟的；庄严的\n"
     ]
    },
    {
     "name": "stdin",
     "output_type": "stream",
     "text": [
      "51:  maintenance yes\n"
     ]
    },
    {
     "name": "stdout",
     "output_type": "stream",
     "text": [
      "n. （状态、进程等的）维持，\n",
      "保持；赡养费；生活费；（对 建筑物、机器等的）定期维修， 保养\n"
     ]
    },
    {
     "name": "stdin",
     "output_type": "stream",
     "text": [
      "52:  mainstream yes\n"
     ]
    },
    {
     "name": "stdout",
     "output_type": "stream",
     "text": [
      "n. （人、活动、思想等的）\n",
      "主流，主要趋势\n"
     ]
    },
    {
     "name": "stdin",
     "output_type": "stream",
     "text": [
      "53:  magnitude yes\n"
     ]
    },
    {
     "name": "stdout",
     "output_type": "stream",
     "text": [
      "n.  意义或者影响上的重大；\n",
      "程度；重要性；巨大；庞大； 重要(性)\n"
     ]
    },
    {
     "name": "stdin",
     "output_type": "stream",
     "text": [
      "54:  magnify yes\n"
     ]
    },
    {
     "name": "stdout",
     "output_type": "stream",
     "text": [
      "v.  放大；加剧；夸大\n"
     ]
    },
    {
     "name": "stdin",
     "output_type": "stream",
     "text": [
      "55:  magnificent \n"
     ]
    },
    {
     "name": "stdout",
     "output_type": "stream",
     "text": [
      "adj.  华丽的，宏伟的\n"
     ]
    },
    {
     "name": "stdin",
     "output_type": "stream",
     "text": [
      "56:  magnanimous \n"
     ]
    },
    {
     "name": "stdout",
     "output_type": "stream",
     "text": [
      "adj.  宽宏大量的，宽厚的，\n",
      "慷慨大度的\n"
     ]
    },
    {
     "name": "stdin",
     "output_type": "stream",
     "text": [
      "57:  magisterial \n"
     ]
    },
    {
     "name": "stdout",
     "output_type": "stream",
     "text": [
      "adj.  权威的；武断的；盛气凌\n",
      "人的\n"
     ]
    },
    {
     "name": "stdin",
     "output_type": "stream",
     "text": [
      "58:  magical yes\n"
     ]
    },
    {
     "name": "stdout",
     "output_type": "stream",
     "text": [
      "adj.  神秘的；迷人的\n"
     ]
    },
    {
     "name": "stdin",
     "output_type": "stream",
     "text": [
      "59:  maelstrom \n"
     ]
    },
    {
     "name": "stdout",
     "output_type": "stream",
     "text": [
      "n.  大动乱；极度混乱状态；\n",
      "混乱不堪\n"
     ]
    },
    {
     "name": "stdin",
     "output_type": "stream",
     "text": [
      "60:  maddening \n"
     ]
    },
    {
     "name": "stdout",
     "output_type": "stream",
     "text": [
      "adj.  令人生气的；使人极\n",
      "其恼火的\n"
     ]
    },
    {
     "name": "stdin",
     "output_type": "stream",
     "text": [
      "61:  liken \n"
     ]
    },
    {
     "name": "stdout",
     "output_type": "stream",
     "text": [
      "v.  把…比作；把…比拟为；比较\n"
     ]
    },
    {
     "name": "stdin",
     "output_type": "stream",
     "text": [
      "62:  license yes\n"
     ]
    },
    {
     "name": "stdout",
     "output_type": "stream",
     "text": [
      "n.  证书，许可证\n",
      "v. 同意，允许\n"
     ]
    },
    {
     "name": "stdin",
     "output_type": "stream",
     "text": [
      "63:  junior yes\n"
     ]
    },
    {
     "name": "stdout",
     "output_type": "stream",
     "text": [
      "a.地位较低的，年资较短的；年轻人的\n"
     ]
    },
    {
     "name": "stdin",
     "output_type": "stream",
     "text": [
      "64:  label yes\n"
     ]
    },
    {
     "name": "stdout",
     "output_type": "stream",
     "text": [
      "v. 把…归类，描述\n"
     ]
    },
    {
     "name": "stdin",
     "output_type": "stream",
     "text": [
      "65:  languish \n"
     ]
    },
    {
     "name": "stdout",
     "output_type": "stream",
     "text": [
      "v.中落，衰弱\n"
     ]
    },
    {
     "name": "stdin",
     "output_type": "stream",
     "text": [
      "66:  languid \n"
     ]
    },
    {
     "name": "stdout",
     "output_type": "stream",
     "text": [
      "a. 倦怠的\n"
     ]
    },
    {
     "name": "stdin",
     "output_type": "stream",
     "text": [
      "67:  landlocked \n"
     ]
    },
    {
     "name": "stdout",
     "output_type": "stream",
     "text": [
      "陆地环绕的；内陆的\n"
     ]
    },
    {
     "name": "stdin",
     "output_type": "stream",
     "text": [
      "68:  lambaste \n"
     ]
    },
    {
     "name": "stdout",
     "output_type": "stream",
     "text": [
      "v. 严厉谴责；训斥\n"
     ]
    },
    {
     "name": "stdin",
     "output_type": "stream",
     "text": [
      "69:  laity \n"
     ]
    },
    {
     "name": "stdout",
     "output_type": "stream",
     "text": [
      "n.（参与教会工作的）俗人，俗众\n"
     ]
    },
    {
     "name": "stdin",
     "output_type": "stream",
     "text": [
      "70:  laden \n"
     ]
    },
    {
     "name": "stdout",
     "output_type": "stream",
     "text": [
      "a.装满的，满载的；充满…的，饱受…的\n"
     ]
    },
    {
     "name": "stdin",
     "output_type": "stream",
     "text": [
      "71:  laconic yes\n"
     ]
    },
    {
     "name": "stdout",
     "output_type": "stream",
     "text": [
      "a.简洁的；寡言的；言简意\n",
      "赅的\n"
     ]
    },
    {
     "name": "stdin",
     "output_type": "stream",
     "text": [
      "72:  lackluster \n"
     ]
    },
    {
     "name": "stdout",
     "output_type": "stream",
     "text": [
      "a.沉闷乏味的；毫无生气的\n"
     ]
    },
    {
     "name": "stdin",
     "output_type": "stream",
     "text": [
      "73:  lachrymose \n"
     ]
    },
    {
     "name": "stdout",
     "output_type": "stream",
     "text": [
      "a.动辄哭哭啼啼的；爱掉眼\n",
      "泪的\n"
     ]
    },
    {
     "name": "stdin",
     "output_type": "stream",
     "text": [
      "74:  labyrinthine \n"
     ]
    },
    {
     "name": "stdout",
     "output_type": "stream",
     "text": [
      "a.错综复杂的；令人费解的\n"
     ]
    },
    {
     "name": "stdin",
     "output_type": "stream",
     "text": [
      "75:  laboriously \n"
     ]
    },
    {
     "name": "stdout",
     "output_type": "stream",
     "text": [
      "adv. 艰苦地，费力地\n"
     ]
    },
    {
     "name": "stdin",
     "output_type": "stream",
     "text": [
      "76:  labor yes\n"
     ]
    },
    {
     "name": "stdout",
     "output_type": "stream",
     "text": [
      "n. 劳工，工人；v. 费力地从事；\n",
      "沉重缓慢的走\n"
     ]
    },
    {
     "name": "stdin",
     "output_type": "stream",
     "text": [
      "77:  labile \n"
     ]
    },
    {
     "name": "stdout",
     "output_type": "stream",
     "text": [
      "a.易变化；能改变的\n"
     ]
    },
    {
     "name": "stdin",
     "output_type": "stream",
     "text": [
      "78:  kudos \n"
     ]
    },
    {
     "name": "stdout",
     "output_type": "stream",
     "text": [
      "n. 荣誉，赞誉，名声\n"
     ]
    },
    {
     "name": "stdin",
     "output_type": "stream",
     "text": [
      "79:  liberal yes\n"
     ]
    },
    {
     "name": "stdout",
     "output_type": "stream",
     "text": [
      "adj.  不严格或不拘泥于字\n",
      "面的；近似的；慷慨的； 大方的；大量的；丰富的； 文科教育的\n"
     ]
    },
    {
     "name": "stdin",
     "output_type": "stream",
     "text": [
      "80:  knowing \n"
     ]
    },
    {
     "name": "stdout",
     "output_type": "stream",
     "text": [
      "a.会意的；心照不宣的；知情的\n"
     ]
    },
    {
     "name": "stdin",
     "output_type": "stream",
     "text": [
      "81:  know-how \n"
     ]
    },
    {
     "name": "stdout",
     "output_type": "stream",
     "text": [
      "（尤指专业或实用的）技 \n",
      "巧，技能\n"
     ]
    },
    {
     "name": "stdin",
     "output_type": "stream",
     "text": [
      "82:  knotty yes\n"
     ]
    },
    {
     "name": "stdout",
     "output_type": "stream",
     "text": [
      "a.复杂的；难以解决的；棘手的\n"
     ]
    },
    {
     "name": "stdin",
     "output_type": "stream",
     "text": [
      "83:  knit \n"
     ]
    },
    {
     "name": "stdout",
     "output_type": "stream",
     "text": [
      "v.使紧密结合，使严密，使\n",
      "紧凑；皱眉（表示恼怒.担忧）\n"
     ]
    },
    {
     "name": "stdin",
     "output_type": "stream",
     "text": [
      "84:  knack \n"
     ]
    },
    {
     "name": "stdout",
     "output_type": "stream",
     "text": [
      "n.诀窍；本领\n"
     ]
    },
    {
     "name": "stdin",
     "output_type": "stream",
     "text": [
      "85:  kindred yes\n"
     ]
    },
    {
     "name": "stdout",
     "output_type": "stream",
     "text": [
      "a.类似的；相似的\n"
     ]
    },
    {
     "name": "stdin",
     "output_type": "stream",
     "text": [
      "86:  kindle \n"
     ]
    },
    {
     "name": "stdout",
     "output_type": "stream",
     "text": [
      "v.激起（感情），使感受到；点\n",
      "燃，照亮\n"
     ]
    },
    {
     "name": "stdin",
     "output_type": "stream",
     "text": [
      "87:  kidnap yes\n"
     ]
    },
    {
     "name": "stdout",
     "output_type": "stream",
     "text": [
      "v.劫持，绑架\n"
     ]
    },
    {
     "name": "stdin",
     "output_type": "stream",
     "text": [
      "88:  key \n"
     ]
    },
    {
     "name": "stdout",
     "output_type": "stream",
     "text": [
      "a.关键的，重要的\n"
     ]
    },
    {
     "name": "stdin",
     "output_type": "stream",
     "text": [
      "89:  ken \n"
     ]
    },
    {
     "name": "stdout",
     "output_type": "stream",
     "text": [
      "n. 知识范围；理解\n"
     ]
    },
    {
     "name": "stdin",
     "output_type": "stream",
     "text": [
      "90:  keen yes\n"
     ]
    },
    {
     "name": "stdout",
     "output_type": "stream",
     "text": [
      "a.热烈的，热情的；聪明的，敏\n",
      "锐的；热切渴望的；尖刻的， 刻薄的\n"
     ]
    },
    {
     "name": "stdin",
     "output_type": "stream",
     "text": [
      "91:  justify yes\n"
     ]
    },
    {
     "name": "stdout",
     "output_type": "stream",
     "text": [
      "v.证明（决定.行为或想法）\n",
      "正当；表明…必要\n"
     ]
    },
    {
     "name": "stdin",
     "output_type": "stream",
     "text": [
      "92:  justification yes\n"
     ]
    },
    {
     "name": "stdout",
     "output_type": "stream",
     "text": [
      "n.正当理由；合理的解释\n"
     ]
    },
    {
     "name": "stdin",
     "output_type": "stream",
     "text": [
      "93:  languor \n"
     ]
    },
    {
     "name": "stdout",
     "output_type": "stream",
     "text": [
      "n. 无精打采，衰弱无力\n"
     ]
    },
    {
     "name": "stdin",
     "output_type": "stream",
     "text": [
      "94:  largesse \n"
     ]
    },
    {
     "name": "stdout",
     "output_type": "stream",
     "text": [
      "n. 慷慨的赠与\n"
     ]
    },
    {
     "name": "stdin",
     "output_type": "stream",
     "text": [
      "95:  lassitude \n"
     ]
    },
    {
     "name": "stdout",
     "output_type": "stream",
     "text": [
      "n. 懒散；困乏；倦怠\n"
     ]
    },
    {
     "name": "stdin",
     "output_type": "stream",
     "text": [
      "96:  latent \n"
     ]
    },
    {
     "name": "stdout",
     "output_type": "stream",
     "text": [
      "a. 潜在的，潜藏的；潜伏的\n"
     ]
    },
    {
     "name": "stdin",
     "output_type": "stream",
     "text": [
      "97:  liable \n"
     ]
    },
    {
     "name": "stdout",
     "output_type": "stream",
     "text": [
      "adj.  有责任的，有义务的；易\n",
      "受…影响的；有可能的\n"
     ]
    },
    {
     "name": "stdin",
     "output_type": "stream",
     "text": [
      "98:  liability \n"
     ]
    },
    {
     "name": "stdout",
     "output_type": "stream",
     "text": [
      "n. 不利条件; 缺点；负债；\n",
      "债务\n"
     ]
    },
    {
     "name": "stdin",
     "output_type": "stream",
     "text": [
      "99:  lexicographer \n"
     ]
    },
    {
     "name": "stdout",
     "output_type": "stream",
     "text": [
      "n.  词典编纂者\n"
     ]
    },
    {
     "name": "stdin",
     "output_type": "stream",
     "text": [
      "100:  levity \n"
     ]
    },
    {
     "name": "stdout",
     "output_type": "stream",
     "text": [
      "n.  轻浮，轻率\n"
     ]
    },
    {
     "name": "stdin",
     "output_type": "stream",
     "text": [
      "101:  levelheaded \n"
     ]
    },
    {
     "name": "stdout",
     "output_type": "stream",
     "text": [
      "adj.  头脑冷静的，清醒的\n"
     ]
    },
    {
     "name": "stdin",
     "output_type": "stream",
     "text": [
      "102:  level yes\n"
     ]
    },
    {
     "name": "stdout",
     "output_type": "stream",
     "text": [
      "n. 程度，水平\n",
      "adj. 稳定的\n",
      "v. 使成为水平，使平坦，\n",
      "使平均\n"
     ]
    },
    {
     "name": "stdin",
     "output_type": "stream",
     "text": [
      "103:  lethargic yes\n"
     ]
    },
    {
     "name": "stdout",
     "output_type": "stream",
     "text": [
      "adj. 不感兴趣的；无动于衷\n",
      "的；慵懒的；没精打采的；懒\n",
      "洋洋的\n"
     ]
    },
    {
     "name": "stdin",
     "output_type": "stream",
     "text": [
      "104:  lethal \n"
     ]
    },
    {
     "name": "stdout",
     "output_type": "stream",
     "text": [
      "adj.  致命的；危害极大的；\n",
      "毁灭性的\n"
     ]
    },
    {
     "name": "stdin",
     "output_type": "stream",
     "text": [
      "105:  lengthy yes\n"
     ]
    },
    {
     "name": "stdout",
     "output_type": "stream",
     "text": [
      "adj.  长久的，漫长的；延长的；\n",
      "冗长乏味的；持续很久的\n"
     ]
    },
    {
     "name": "stdin",
     "output_type": "stream",
     "text": [
      "106:  legitimize yes\n"
     ]
    },
    {
     "name": "stdout",
     "output_type": "stream",
     "text": [
      "v.  使...合法,  证明…为有\n",
      "理（或正当）\n"
     ]
    },
    {
     "name": "stdin",
     "output_type": "stream",
     "text": [
      "107:  legitimate yes\n"
     ]
    },
    {
     "name": "stdout",
     "output_type": "stream",
     "text": [
      "v. 使合法\n",
      "adj.  合法的；合理的\n"
     ]
    },
    {
     "name": "stdin",
     "output_type": "stream",
     "text": [
      "108:  legislator yes\n"
     ]
    },
    {
     "name": "stdout",
     "output_type": "stream",
     "text": [
      "n.立法者，立法机关成员\n"
     ]
    },
    {
     "name": "stdin",
     "output_type": "stream",
     "text": [
      "109:  legislation yes\n"
     ]
    },
    {
     "name": "stdout",
     "output_type": "stream",
     "text": [
      "n.法律，法规\n"
     ]
    },
    {
     "name": "stdin",
     "output_type": "stream",
     "text": [
      "110:  legislate yes\n"
     ]
    },
    {
     "name": "stdout",
     "output_type": "stream",
     "text": [
      "n.立法机关，议会\n"
     ]
    },
    {
     "name": "stdin",
     "output_type": "stream",
     "text": [
      "111:  legend yes\n"
     ]
    },
    {
     "name": "stdout",
     "output_type": "stream",
     "text": [
      "n.民间传说（传奇），传奇文学\n"
     ]
    },
    {
     "name": "stdin",
     "output_type": "stream",
     "text": [
      "112:  legacy yes\n"
     ]
    },
    {
     "name": "stdout",
     "output_type": "stream",
     "text": [
      "n.遗产\n"
     ]
    },
    {
     "name": "stdin",
     "output_type": "stream",
     "text": [
      "113:  layperson yes\n"
     ]
    },
    {
     "name": "stdout",
     "output_type": "stream",
     "text": [
      "n.外行\n"
     ]
    },
    {
     "name": "stdin",
     "output_type": "stream",
     "text": [
      "114:  lax \n"
     ]
    },
    {
     "name": "stdout",
     "output_type": "stream",
     "text": [
      "a.松懈的，马虎的，不严格的\n"
     ]
    },
    {
     "name": "stdin",
     "output_type": "stream",
     "text": [
      "115:  lavish \n"
     ]
    },
    {
     "name": "stdout",
     "output_type": "stream",
     "text": [
      "a.奢侈的，丰富的；慷慨的；v.慷慨给予\n"
     ]
    },
    {
     "name": "stdin",
     "output_type": "stream",
     "text": [
      "116:  laureate \n"
     ]
    },
    {
     "name": "stdout",
     "output_type": "stream",
     "text": [
      "n.获得荣誉的人；a.卓越的\n"
     ]
    },
    {
     "name": "stdin",
     "output_type": "stream",
     "text": [
      "117:  launch \n"
     ]
    },
    {
     "name": "stdout",
     "output_type": "stream",
     "text": [
      "v.投掷；发射；发动，开始；推\n",
      "出（新产品）\n"
     ]
    },
    {
     "name": "stdin",
     "output_type": "stream",
     "text": [
      "118:  laughable \n"
     ]
    },
    {
     "name": "stdout",
     "output_type": "stream",
     "text": [
      "可笑的；滑稽的；荒唐的\n"
     ]
    },
    {
     "name": "stdin",
     "output_type": "stream",
     "text": [
      "119:  laudatory \n"
     ]
    },
    {
     "name": "stdout",
     "output_type": "stream",
     "text": [
      "a.赞扬的\n"
     ]
    },
    {
     "name": "stdin",
     "output_type": "stream",
     "text": [
      "120:  laudable \n"
     ]
    },
    {
     "name": "stdout",
     "output_type": "stream",
     "text": [
      "a.值得赞美的，值得称赞的\n"
     ]
    }
   ],
   "source": [
    "day2.memorize(500)"
   ]
  },
  {
   "cell_type": "code",
   "execution_count": 50,
   "metadata": {},
   "outputs": [],
   "source": [
    "# day2.sorting()"
   ]
  },
  {
   "cell_type": "code",
   "execution_count": 57,
   "metadata": {},
   "outputs": [
    {
     "name": "stdout",
     "output_type": "stream",
     "text": [
      "Excel update done!\n"
     ]
    }
   ],
   "source": [
    "day2.update_excel()"
   ]
  },
  {
   "cell_type": "code",
   "execution_count": null,
   "metadata": {},
   "outputs": [],
   "source": []
  }
 ],
 "metadata": {
  "kernelspec": {
   "display_name": "Python 3",
   "language": "python",
   "name": "python3"
  },
  "language_info": {
   "codemirror_mode": {
    "name": "ipython",
    "version": 3
   },
   "file_extension": ".py",
   "mimetype": "text/x-python",
   "name": "python",
   "nbconvert_exporter": "python",
   "pygments_lexer": "ipython3",
   "version": "3.7.6"
  }
 },
 "nbformat": 4,
 "nbformat_minor": 4
}

{
 "cells": [
  {
   "cell_type": "code",
   "execution_count": 2,
   "metadata": {},
   "outputs": [],
   "source": [
    "import pandas as pd"
   ]
  },
  {
   "cell_type": "code",
   "execution_count": 21,
   "metadata": {},
   "outputs": [
    {
     "data": {
      "text/html": [
       "<div>\n",
       "<style scoped>\n",
       "    .dataframe tbody tr th:only-of-type {\n",
       "        vertical-align: middle;\n",
       "    }\n",
       "\n",
       "    .dataframe tbody tr th {\n",
       "        vertical-align: top;\n",
       "    }\n",
       "\n",
       "    .dataframe thead th {\n",
       "        text-align: right;\n",
       "    }\n",
       "</style>\n",
       "<table border=\"1\" class=\"dataframe\">\n",
       "  <thead>\n",
       "    <tr style=\"text-align: right;\">\n",
       "      <th></th>\n",
       "      <th>count</th>\n",
       "      <th>word</th>\n",
       "      <th>mean</th>\n",
       "    </tr>\n",
       "  </thead>\n",
       "  <tbody>\n",
       "    <tr>\n",
       "      <th>0</th>\n",
       "      <td>0</td>\n",
       "      <td>assail</td>\n",
       "      <td>v.攻击；猛烈抨击；强烈指责</td>\n",
       "    </tr>\n",
       "    <tr>\n",
       "      <th>1</th>\n",
       "      <td>0</td>\n",
       "      <td>antipathy</td>\n",
       "      <td>n. 厌恶，反感</td>\n",
       "    </tr>\n",
       "    <tr>\n",
       "      <th>2</th>\n",
       "      <td>0</td>\n",
       "      <td>ardor</td>\n",
       "      <td>n. 热情，热心</td>\n",
       "    </tr>\n",
       "    <tr>\n",
       "      <th>3</th>\n",
       "      <td>0</td>\n",
       "      <td>abase</td>\n",
       "      <td>v.贬低，使谦卑（降低地位、威望或尊严）</td>\n",
       "    </tr>\n",
       "    <tr>\n",
       "      <th>4</th>\n",
       "      <td>0</td>\n",
       "      <td>assault</td>\n",
       "      <td>n.攻击；强烈批评</td>\n",
       "    </tr>\n",
       "    <tr>\n",
       "      <th>5</th>\n",
       "      <td>0</td>\n",
       "      <td>apocryphal</td>\n",
       "      <td>adj. 假的虚构的，杜撰的</td>\n",
       "    </tr>\n",
       "    <tr>\n",
       "      <th>6</th>\n",
       "      <td>0</td>\n",
       "      <td>assiduous</td>\n",
       "      <td>adj. 勤勉的；坚持不懈的</td>\n",
       "    </tr>\n",
       "    <tr>\n",
       "      <th>7</th>\n",
       "      <td>0</td>\n",
       "      <td>befuddle</td>\n",
       "      <td>v. 使迷惑；使困惑</td>\n",
       "    </tr>\n",
       "    <tr>\n",
       "      <th>8</th>\n",
       "      <td>0</td>\n",
       "      <td>arduous</td>\n",
       "      <td>adj. 艰巨的，费力的；困难\\n的</td>\n",
       "    </tr>\n",
       "    <tr>\n",
       "      <th>9</th>\n",
       "      <td>0</td>\n",
       "      <td>absolve</td>\n",
       "      <td>v. 免除…的过失;解除…的\\n责任：</td>\n",
       "    </tr>\n",
       "    <tr>\n",
       "      <th>10</th>\n",
       "      <td>0</td>\n",
       "      <td>aplomb</td>\n",
       "      <td>n. 沉着，镇静，泰然自若</td>\n",
       "    </tr>\n",
       "    <tr>\n",
       "      <th>11</th>\n",
       "      <td>0</td>\n",
       "      <td>bask</td>\n",
       "      <td>v. 沉浸于，尽情享受（赞美、宠爱或崇拜）</td>\n",
       "    </tr>\n",
       "    <tr>\n",
       "      <th>12</th>\n",
       "      <td>0</td>\n",
       "      <td>apparition</td>\n",
       "      <td>n. 幽灵，神奇的现象</td>\n",
       "    </tr>\n",
       "    <tr>\n",
       "      <th>13</th>\n",
       "      <td>0</td>\n",
       "      <td>apprehensive</td>\n",
       "      <td>adj.（对未来）担心的，忧\\n虑的；能快速领悟的</td>\n",
       "    </tr>\n",
       "    <tr>\n",
       "      <th>14</th>\n",
       "      <td>0</td>\n",
       "      <td>barricade</td>\n",
       "      <td>v. 封锁，阻挡；在…设路障 n. 障碍物, 路障；街垒</td>\n",
       "    </tr>\n",
       "    <tr>\n",
       "      <th>15</th>\n",
       "      <td>0</td>\n",
       "      <td>baseness</td>\n",
       "      <td>n.卑鄙，下贱</td>\n",
       "    </tr>\n",
       "    <tr>\n",
       "      <th>16</th>\n",
       "      <td>0</td>\n",
       "      <td>bellwether</td>\n",
       "      <td>n. 先兆；征兆；风向标；领\\n导者</td>\n",
       "    </tr>\n",
       "    <tr>\n",
       "      <th>17</th>\n",
       "      <td>0</td>\n",
       "      <td>astounding</td>\n",
       "      <td>adj. 令人惊骇的；令人震惊的</td>\n",
       "    </tr>\n",
       "    <tr>\n",
       "      <th>18</th>\n",
       "      <td>0</td>\n",
       "      <td>abrade</td>\n",
       "      <td>v. 磨损，擦伤；（在精神方\\n面）折磨；消磨（意志等）</td>\n",
       "    </tr>\n",
       "    <tr>\n",
       "      <th>19</th>\n",
       "      <td>0</td>\n",
       "      <td>arid</td>\n",
       "      <td>adj. 乏味的，缺乏兴趣的；干\\n旱的;不毛的</td>\n",
       "    </tr>\n",
       "    <tr>\n",
       "      <th>20</th>\n",
       "      <td>0</td>\n",
       "      <td>anarchist</td>\n",
       "      <td>n. 无政府主义者；反对权威\\n的人；扰乱分子</td>\n",
       "    </tr>\n",
       "    <tr>\n",
       "      <th>21</th>\n",
       "      <td>0</td>\n",
       "      <td>abject</td>\n",
       "      <td>adj. 卑微的，讨好的；绝望无\\n助的；凄苦可怜的</td>\n",
       "    </tr>\n",
       "    <tr>\n",
       "      <th>22</th>\n",
       "      <td>0</td>\n",
       "      <td>bash</td>\n",
       "      <td>v. 严厉地批评，指责</td>\n",
       "    </tr>\n",
       "    <tr>\n",
       "      <th>23</th>\n",
       "      <td>0</td>\n",
       "      <td>alleged</td>\n",
       "      <td>adj. 所谓的（表示质疑）</td>\n",
       "    </tr>\n",
       "    <tr>\n",
       "      <th>24</th>\n",
       "      <td>0</td>\n",
       "      <td>afflict</td>\n",
       "      <td>v. 折磨</td>\n",
       "    </tr>\n",
       "    <tr>\n",
       "      <th>25</th>\n",
       "      <td>0</td>\n",
       "      <td>abrasive</td>\n",
       "      <td>adj.态度无理的，粗鲁的</td>\n",
       "    </tr>\n",
       "    <tr>\n",
       "      <th>26</th>\n",
       "      <td>0</td>\n",
       "      <td>acumen</td>\n",
       "      <td>n. 敏锐，精明</td>\n",
       "    </tr>\n",
       "    <tr>\n",
       "      <th>27</th>\n",
       "      <td>0</td>\n",
       "      <td>bait</td>\n",
       "      <td>v. 激怒；嘲笑；引诱(尤指\\n用圈套或计谋)</td>\n",
       "    </tr>\n",
       "    <tr>\n",
       "      <th>28</th>\n",
       "      <td>0</td>\n",
       "      <td>acute</td>\n",
       "      <td>adj. 急性的（发作快且持续\\n时 间 短 但 发 病 过 程 剧 烈 的）；敏锐的；紧急的</td>\n",
       "    </tr>\n",
       "    <tr>\n",
       "      <th>29</th>\n",
       "      <td>0</td>\n",
       "      <td>babble</td>\n",
       "      <td>v.含糊不清地说；兴奋的说\\nn.嘈杂声；含混不清的说话声</td>\n",
       "    </tr>\n",
       "    <tr>\n",
       "      <th>30</th>\n",
       "      <td>0</td>\n",
       "      <td>barter</td>\n",
       "      <td>v./n. 以物换物，易货贸易</td>\n",
       "    </tr>\n",
       "    <tr>\n",
       "      <th>31</th>\n",
       "      <td>0</td>\n",
       "      <td>acquittal</td>\n",
       "      <td>n. 宣告无罪；无罪的判决</td>\n",
       "    </tr>\n",
       "    <tr>\n",
       "      <th>32</th>\n",
       "      <td>0</td>\n",
       "      <td>avocation</td>\n",
       "      <td>n. 副业，嗜好</td>\n",
       "    </tr>\n",
       "    <tr>\n",
       "      <th>33</th>\n",
       "      <td>0</td>\n",
       "      <td>barbarous</td>\n",
       "      <td>adj. 野蛮的，未开化的；残暴\\n的；极其残忍的；凶残的</td>\n",
       "    </tr>\n",
       "    <tr>\n",
       "      <th>34</th>\n",
       "      <td>0</td>\n",
       "      <td>beguile</td>\n",
       "      <td>v. 欺骗，哄骗；分散注意力；\\n转移注意；取悦，吸引；令人陶醉</td>\n",
       "    </tr>\n",
       "    <tr>\n",
       "      <th>35</th>\n",
       "      <td>0</td>\n",
       "      <td>appall</td>\n",
       "      <td>v. 使惊恐</td>\n",
       "    </tr>\n",
       "    <tr>\n",
       "      <th>36</th>\n",
       "      <td>0</td>\n",
       "      <td>awe-inspiring</td>\n",
       "      <td>adj.  使人惊叹的，令人敬畏的</td>\n",
       "    </tr>\n",
       "    <tr>\n",
       "      <th>37</th>\n",
       "      <td>0</td>\n",
       "      <td>barren</td>\n",
       "      <td>adj. 无用的；无益的；无效果的；贫瘠的，缺少植被的；空洞的；乏味的，无趣的</td>\n",
       "    </tr>\n",
       "    <tr>\n",
       "      <th>38</th>\n",
       "      <td>0</td>\n",
       "      <td>abysmal</td>\n",
       "      <td>adj. 极坏的；糟透的；深重\\n的；无边的</td>\n",
       "    </tr>\n",
       "    <tr>\n",
       "      <th>39</th>\n",
       "      <td>0</td>\n",
       "      <td>belittle</td>\n",
       "      <td>vt. 使显得微小，相形见小\\n( 使 看 起 来 比 另 一 个 少 或 小)；贬低，轻视</td>\n",
       "    </tr>\n",
       "    <tr>\n",
       "      <th>40</th>\n",
       "      <td>0</td>\n",
       "      <td>abstain</td>\n",
       "      <td>v. 自我克制，有意回避</td>\n",
       "    </tr>\n",
       "    <tr>\n",
       "      <th>41</th>\n",
       "      <td>0</td>\n",
       "      <td>apportionment</td>\n",
       "      <td>n. 分配，分派，分摊</td>\n",
       "    </tr>\n",
       "    <tr>\n",
       "      <th>42</th>\n",
       "      <td>0</td>\n",
       "      <td>aphorism</td>\n",
       "      <td>n.格言；警语</td>\n",
       "    </tr>\n",
       "    <tr>\n",
       "      <th>43</th>\n",
       "      <td>0</td>\n",
       "      <td>apprentice</td>\n",
       "      <td>n. 学徒，徒弟；初学者</td>\n",
       "    </tr>\n",
       "    <tr>\n",
       "      <th>44</th>\n",
       "      <td>0</td>\n",
       "      <td>barefaced</td>\n",
       "      <td>厚 颜 无 耻 的 （ 有 时 也 作\\nbare-faced）</td>\n",
       "    </tr>\n",
       "    <tr>\n",
       "      <th>45</th>\n",
       "      <td>0</td>\n",
       "      <td>artifice</td>\n",
       "      <td>n. 诡计，圈套；聪明，机智，\\n技巧</td>\n",
       "    </tr>\n",
       "    <tr>\n",
       "      <th>46</th>\n",
       "      <td>0</td>\n",
       "      <td>annex</td>\n",
       "      <td>n. 附属建筑\\nv. 合并，吞并</td>\n",
       "    </tr>\n",
       "    <tr>\n",
       "      <th>47</th>\n",
       "      <td>0</td>\n",
       "      <td>abjure</td>\n",
       "      <td>v. 发誓放弃，郑重声明放\\n弃；弃权，放弃（行动或行 为等）</td>\n",
       "    </tr>\n",
       "    <tr>\n",
       "      <th>48</th>\n",
       "      <td>0</td>\n",
       "      <td>astute</td>\n",
       "      <td>adj. 机敏的，精明的</td>\n",
       "    </tr>\n",
       "    <tr>\n",
       "      <th>49</th>\n",
       "      <td>0</td>\n",
       "      <td>animosity</td>\n",
       "      <td>n. 憎恶，仇恨</td>\n",
       "    </tr>\n",
       "  </tbody>\n",
       "</table>\n",
       "</div>"
      ],
      "text/plain": [
       "    count           word                                             mean\n",
       "0       0         assail                                   v.攻击；猛烈抨击；强烈指责\n",
       "1       0      antipathy                                         n. 厌恶，反感\n",
       "2       0          ardor                                         n. 热情，热心\n",
       "3       0          abase                             v.贬低，使谦卑（降低地位、威望或尊严）\n",
       "4       0        assault                                        n.攻击；强烈批评\n",
       "5       0     apocryphal                                   adj. 假的虚构的，杜撰的\n",
       "6       0      assiduous                                   adj. 勤勉的；坚持不懈的\n",
       "7       0       befuddle                                       v. 使迷惑；使困惑\n",
       "8       0        arduous                               adj. 艰巨的，费力的；困难\\n的\n",
       "9       0        absolve                              v. 免除…的过失;解除…的\\n责任：\n",
       "10      0         aplomb                                    n. 沉着，镇静，泰然自若\n",
       "11      0           bask                            v. 沉浸于，尽情享受（赞美、宠爱或崇拜）\n",
       "12      0     apparition                                      n. 幽灵，神奇的现象\n",
       "13      0   apprehensive                        adj.（对未来）担心的，忧\\n虑的；能快速领悟的\n",
       "14      0      barricade                     v. 封锁，阻挡；在…设路障 n. 障碍物, 路障；街垒\n",
       "15      0       baseness                                          n.卑鄙，下贱\n",
       "16      0     bellwether                               n. 先兆；征兆；风向标；领\\n导者\n",
       "17      0     astounding                                 adj. 令人惊骇的；令人震惊的\n",
       "18      0         abrade                     v. 磨损，擦伤；（在精神方\\n面）折磨；消磨（意志等）\n",
       "19      0           arid                         adj. 乏味的，缺乏兴趣的；干\\n旱的;不毛的\n",
       "20      0      anarchist                          n. 无政府主义者；反对权威\\n的人；扰乱分子\n",
       "21      0         abject                       adj. 卑微的，讨好的；绝望无\\n助的；凄苦可怜的\n",
       "22      0           bash                                      v. 严厉地批评，指责\n",
       "23      0        alleged                                   adj. 所谓的（表示质疑）\n",
       "24      0        afflict                                            v. 折磨\n",
       "25      0       abrasive                                    adj.态度无理的，粗鲁的\n",
       "26      0         acumen                                         n. 敏锐，精明\n",
       "27      0           bait                          v. 激怒；嘲笑；引诱(尤指\\n用圈套或计谋)\n",
       "28      0          acute  adj. 急性的（发作快且持续\\n时 间 短 但 发 病 过 程 剧 烈 的）；敏锐的；紧急的\n",
       "29      0         babble                    v.含糊不清地说；兴奋的说\\nn.嘈杂声；含混不清的说话声\n",
       "30      0         barter                                  v./n. 以物换物，易货贸易\n",
       "31      0      acquittal                                    n. 宣告无罪；无罪的判决\n",
       "32      0      avocation                                         n. 副业，嗜好\n",
       "33      0      barbarous                    adj. 野蛮的，未开化的；残暴\\n的；极其残忍的；凶残的\n",
       "34      0        beguile                 v. 欺骗，哄骗；分散注意力；\\n转移注意；取悦，吸引；令人陶醉\n",
       "35      0         appall                                           v. 使惊恐\n",
       "36      0  awe-inspiring                                adj.  使人惊叹的，令人敬畏的\n",
       "37      0         barren          adj. 无用的；无益的；无效果的；贫瘠的，缺少植被的；空洞的；乏味的，无趣的\n",
       "38      0        abysmal                           adj. 极坏的；糟透的；深重\\n的；无边的\n",
       "39      0       belittle   vt. 使显得微小，相形见小\\n( 使 看 起 来 比 另 一 个 少 或 小)；贬低，轻视\n",
       "40      0        abstain                                     v. 自我克制，有意回避\n",
       "41      0  apportionment                                      n. 分配，分派，分摊\n",
       "42      0       aphorism                                          n.格言；警语\n",
       "43      0     apprentice                                     n. 学徒，徒弟；初学者\n",
       "44      0      barefaced                 厚 颜 无 耻 的 （ 有 时 也 作\\nbare-faced）\n",
       "45      0       artifice                              n. 诡计，圈套；聪明，机智，\\n技巧\n",
       "46      0          annex                                n. 附属建筑\\nv. 合并，吞并\n",
       "47      0         abjure                  v. 发誓放弃，郑重声明放\\n弃；弃权，放弃（行动或行 为等）\n",
       "48      0         astute                                     adj. 机敏的，精明的\n",
       "49      0      animosity                                         n. 憎恶，仇恨"
      ]
     },
     "execution_count": 21,
     "metadata": {},
     "output_type": "execute_result"
    }
   ],
   "source": [
    "excel_path = \"Day 1 list1-3.xlsx\"\n",
    "all_words = pd.read_excel(excel_path)\n",
    "all_words.head(50)\n",
    "# all_words.iloc[,1]\n",
    "# all_words.sort_values(by=['Unnamed: 0'], axis=0, ascending=False)"
   ]
  },
  {
   "cell_type": "code",
   "execution_count": 4,
   "metadata": {},
   "outputs": [
    {
     "data": {
      "text/plain": [
       "298"
      ]
     },
     "execution_count": 4,
     "metadata": {},
     "output_type": "execute_result"
    }
   ],
   "source": [
    "len(all_words)"
   ]
  },
  {
   "cell_type": "code",
   "execution_count": 15,
   "metadata": {},
   "outputs": [],
   "source": [
    "import pandas as pd\n",
    "class WordReader(object):\n",
    "    \n",
    "    def __init__(self, excel_path, is_random=False):\n",
    "        self.excel_path = excel_path\n",
    "        self.all_words = pd.read_excel(self.excel_path)\n",
    "        self.words_sorted = self.all_words.sort_values(by=['count'], axis=0, ascending=False)\n",
    "        self.is_random = is_random\n",
    "        self.len = len(self.all_words)            \n",
    "        \n",
    "    def memorize(self, word_num):\n",
    "        if word_num > self.len:\n",
    "            word_num = self.len\n",
    "        for i in range(word_num):\n",
    "            word = self.words_sorted.iloc[i,1]\n",
    "            mean = self.words_sorted.iloc[i,2]\n",
    "            flag = input(str(i) +':  '+ word)\n",
    "            if flag == 'yes':\n",
    "                print(mean)\n",
    "                continue\n",
    "            elif flag == '':\n",
    "                print(mean)\n",
    "                self.words_sorted.iloc[i,0] += 1\n",
    "                \n",
    "    def sorting(self, top=100):\n",
    "        sorted_ver = self.words_sorted.sort_values(by=['count'], axis=0, ascending=False)\n",
    "        return sorted_ver.iloc[:top,:]\n",
    "    \n",
    "    def update_excel(self):\n",
    "        sorted_ver = self.words_sorted.sort_values(by=['count'], axis=0, ascending=False)\n",
    "        sorted_ver.to_excel(self.excel_path, index=False)\n",
    "        print('Excel update done!')"
   ]
  },
  {
   "cell_type": "code",
   "execution_count": 17,
   "metadata": {},
   "outputs": [],
   "source": [
    "day1 = WordReader(\"Day 1 list1-3.xlsx\")\n",
    "day2 = WordReader(\"Day 2 list4-6.xlsx\")\n",
    "day3 = WordReader(\"Day 3 list7-9.xlsx\")\n",
    "day4 = WordReader(\"Day 4 list10-12.xlsx\")\n",
    "day5 = WordReader(\"Day 5 list13-15.xlsx\")\n",
    "day6 = WordReader('Day 6 list16-18.xlsx')\n",
    "day7 = WordReader('Day 7 list19-21.xlsx')\n",
    "day8 = WordReader('Day 8 list22-24.xlsx')\n",
    "day9 = WordReader('Day 9 list25-27.xlsx')"
   ]
  },
  {
   "cell_type": "code",
   "execution_count": null,
   "metadata": {},
   "outputs": [
    {
     "name": "stdin",
     "output_type": "stream",
     "text": [
      "0:  pretentious yes\n"
     ]
    },
    {
     "name": "stdout",
     "output_type": "stream",
     "text": [
      "adj.自负的，自任不凡的；炫\n",
      "耀的\n"
     ]
    },
    {
     "name": "stdin",
     "output_type": "stream",
     "text": [
      "1:  reflect yes\n"
     ]
    },
    {
     "name": "stdout",
     "output_type": "stream",
     "text": [
      "v. 反映；沉思；深思\n"
     ]
    },
    {
     "name": "stdin",
     "output_type": "stream",
     "text": [
      "2:  referee yes\n"
     ]
    },
    {
     "name": "stdout",
     "output_type": "stream",
     "text": [
      "n. 裁判\n"
     ]
    },
    {
     "name": "stdin",
     "output_type": "stream",
     "text": [
      "3:  reenact \n"
     ]
    },
    {
     "name": "stdout",
     "output_type": "stream",
     "text": [
      "v. 再制定；重现；再次演出\n"
     ]
    },
    {
     "name": "stdin",
     "output_type": "stream",
     "text": [
      "4:  redundant yes\n"
     ]
    },
    {
     "name": "stdout",
     "output_type": "stream",
     "text": [
      "adj. 多余的，冗长的；啰嗦的，\n",
      "冗长的\n"
     ]
    },
    {
     "name": "stdin",
     "output_type": "stream",
     "text": [
      "5:  redress \n"
     ]
    },
    {
     "name": "stdout",
     "output_type": "stream",
     "text": [
      "v. 矫正；纠正；改正；调整；\n",
      "调节\n"
     ]
    },
    {
     "name": "stdin",
     "output_type": "stream",
     "text": [
      "6:  redoubtable \n"
     ]
    },
    {
     "name": "stdout",
     "output_type": "stream",
     "text": [
      "adj. 值得尊敬的，名不虚传的\n"
     ]
    },
    {
     "name": "stdin",
     "output_type": "stream",
     "text": [
      "7:  redouble yes\n"
     ]
    },
    {
     "name": "stdout",
     "output_type": "stream",
     "text": [
      "v. 加倍；加强\n"
     ]
    },
    {
     "name": "stdin",
     "output_type": "stream",
     "text": [
      "8:  redolent \n"
     ]
    },
    {
     "name": "stdout",
     "output_type": "stream",
     "text": [
      "adj. 有…气味的 adj. 使人想\n",
      "起…的；使人联想到…的\n"
     ]
    },
    {
     "name": "stdin",
     "output_type": "stream",
     "text": [
      "9:  redeem \n"
     ]
    },
    {
     "name": "stdout",
     "output_type": "stream",
     "text": [
      "v. 弥补 v. 挽回（声誉）\n"
     ]
    },
    {
     "name": "stdin",
     "output_type": "stream",
     "text": [
      "10:  recurrent \n"
     ]
    },
    {
     "name": "stdout",
     "output_type": "stream",
     "text": [
      "adj. 重现的；再次发生的\n"
     ]
    },
    {
     "name": "stdin",
     "output_type": "stream",
     "text": [
      "11:  recuperate \n"
     ]
    },
    {
     "name": "stdout",
     "output_type": "stream",
     "text": [
      "v. （身体）恢复，康复\n"
     ]
    },
    {
     "name": "stdin",
     "output_type": "stream",
     "text": [
      "12:  rectitude \n"
     ]
    },
    {
     "name": "stdout",
     "output_type": "stream",
     "text": [
      "n. 正直\n"
     ]
    },
    {
     "name": "stdin",
     "output_type": "stream",
     "text": [
      "13:  recrudescent \n"
     ]
    },
    {
     "name": "stdout",
     "output_type": "stream",
     "text": [
      "adj. 复发的\n"
     ]
    },
    {
     "name": "stdin",
     "output_type": "stream",
     "text": [
      "14:  recount \n"
     ]
    },
    {
     "name": "stdout",
     "output_type": "stream",
     "text": [
      "v. 讲述；描述；描绘\n"
     ]
    },
    {
     "name": "stdin",
     "output_type": "stream",
     "text": [
      "15:  reconvene \n"
     ]
    },
    {
     "name": "stdout",
     "output_type": "stream",
     "text": [
      "v. 重新召集\n"
     ]
    },
    {
     "name": "stdin",
     "output_type": "stream",
     "text": [
      "16:  reconstruct yes\n"
     ]
    },
    {
     "name": "stdout",
     "output_type": "stream",
     "text": [
      "v. 重建；重造 v. 使（过去的\n",
      "事件）重现，使再现\n"
     ]
    },
    {
     "name": "stdin",
     "output_type": "stream",
     "text": [
      "17:  refine yes\n"
     ]
    },
    {
     "name": "stdout",
     "output_type": "stream",
     "text": [
      "v. 使高雅；改进，改善，精\n",
      "炼；提炼，精炼\n"
     ]
    },
    {
     "name": "stdin",
     "output_type": "stream",
     "text": [
      "18:  refractory \n"
     ]
    },
    {
     "name": "stdout",
     "output_type": "stream",
     "text": [
      "adj. 不服管束的；难以控制\n",
      "的；难治愈的；耐高温的\n"
     ]
    },
    {
     "name": "stdin",
     "output_type": "stream",
     "text": [
      "19:  reconcile yes\n"
     ]
    },
    {
     "name": "stdout",
     "output_type": "stream",
     "text": [
      "v. 解决，调停 v. 使和好 v. 调\n",
      "和，使兼容，使一致 v. 顺从； 接受；将就\n"
     ]
    },
    {
     "name": "stdin",
     "output_type": "stream",
     "text": [
      "20:  refrain \n"
     ]
    },
    {
     "name": "stdout",
     "output_type": "stream",
     "text": [
      "v. 节制；克制\n"
     ]
    },
    {
     "name": "stdin",
     "output_type": "stream",
     "text": [
      "21:  reinforce yes\n"
     ]
    },
    {
     "name": "stdout",
     "output_type": "stream",
     "text": [
      "v. 加强票；增强；给予…更多支持；为…提供更多证据\n"
     ]
    },
    {
     "name": "stdin",
     "output_type": "stream",
     "text": [
      "22:  rein \n"
     ]
    },
    {
     "name": "stdout",
     "output_type": "stream",
     "text": [
      "v. 制止，抑制 n. 支配权，控制权\n"
     ]
    },
    {
     "name": "stdin",
     "output_type": "stream",
     "text": [
      "23:  reign \n"
     ]
    },
    {
     "name": "stdout",
     "output_type": "stream",
     "text": [
      "v. 支配；主宰\n",
      "v./n. (国王或女王)统治，治 理\n"
     ]
    },
    {
     "name": "stdin",
     "output_type": "stream",
     "text": [
      "24:  rehearsal yes\n"
     ]
    },
    {
     "name": "stdout",
     "output_type": "stream",
     "text": [
      "n. 排练\n"
     ]
    },
    {
     "name": "stdin",
     "output_type": "stream",
     "text": [
      "25:  rehabilitate \n"
     ]
    },
    {
     "name": "stdout",
     "output_type": "stream",
     "text": [
      "v. 康复，恢复；恢复名誉\n"
     ]
    },
    {
     "name": "stdin",
     "output_type": "stream",
     "text": [
      "26:  regulation yes\n"
     ]
    },
    {
     "name": "stdout",
     "output_type": "stream",
     "text": [
      "n. 规则；规定；制度；调控，\n",
      "管理，控制\n"
     ]
    },
    {
     "name": "stdin",
     "output_type": "stream",
     "text": [
      "27:  regrettable yes\n"
     ]
    },
    {
     "name": "stdout",
     "output_type": "stream",
     "text": [
      "adj. 令人后悔的；令人遗憾\n",
      "的；可惜的\n"
     ]
    },
    {
     "name": "stdin",
     "output_type": "stream",
     "text": [
      "28:  regress \n"
     ]
    },
    {
     "name": "stdout",
     "output_type": "stream",
     "text": [
      "v. 倒退；退步；退化\n"
     ]
    },
    {
     "name": "stdin",
     "output_type": "stream",
     "text": [
      "29:  regimen \n"
     ]
    },
    {
     "name": "stdout",
     "output_type": "stream",
     "text": [
      "n. 统治，控制；养生法\n"
     ]
    },
    {
     "name": "stdin",
     "output_type": "stream",
     "text": [
      "30:  regenerative \n"
     ]
    },
    {
     "name": "stdout",
     "output_type": "stream",
     "text": [
      "adj. 有再生作用的；有再造能\n",
      "力的\n"
     ]
    },
    {
     "name": "stdin",
     "output_type": "stream",
     "text": [
      "31:  regenerate yes\n"
     ]
    },
    {
     "name": "stdout",
     "output_type": "stream",
     "text": [
      "v. 革新；使复兴；重建\n"
     ]
    },
    {
     "name": "stdin",
     "output_type": "stream",
     "text": [
      "32:  regality \n"
     ]
    },
    {
     "name": "stdout",
     "output_type": "stream",
     "text": [
      "n. 王位；王权\n"
     ]
    },
    {
     "name": "stdin",
     "output_type": "stream",
     "text": [
      "33:  refulgent \n"
     ]
    },
    {
     "name": "stdout",
     "output_type": "stream",
     "text": [
      "adj. 辉煌的，灿烂的\n"
     ]
    },
    {
     "name": "stdin",
     "output_type": "stream",
     "text": [
      "34:  refuge yes\n"
     ]
    },
    {
     "name": "stdout",
     "output_type": "stream",
     "text": [
      "n. 庇护所；避难所；安全地带\n"
     ]
    },
    {
     "name": "stdin",
     "output_type": "stream",
     "text": [
      "35:  refreshing yes\n"
     ]
    },
    {
     "name": "stdout",
     "output_type": "stream",
     "text": [
      "adj.  使人耳目一新的；新鲜\n",
      "的\n"
     ]
    }
   ],
   "source": [
    "day9.memorize(300)"
   ]
  },
  {
   "cell_type": "code",
   "execution_count": 13,
   "metadata": {},
   "outputs": [
    {
     "data": {
      "text/html": [
       "<div>\n",
       "<style scoped>\n",
       "    .dataframe tbody tr th:only-of-type {\n",
       "        vertical-align: middle;\n",
       "    }\n",
       "\n",
       "    .dataframe tbody tr th {\n",
       "        vertical-align: top;\n",
       "    }\n",
       "\n",
       "    .dataframe thead th {\n",
       "        text-align: right;\n",
       "    }\n",
       "</style>\n",
       "<table border=\"1\" class=\"dataframe\">\n",
       "  <thead>\n",
       "    <tr style=\"text-align: right;\">\n",
       "      <th></th>\n",
       "      <th>count</th>\n",
       "      <th>word</th>\n",
       "      <th>mean</th>\n",
       "    </tr>\n",
       "  </thead>\n",
       "  <tbody>\n",
       "    <tr>\n",
       "      <th>0</th>\n",
       "      <td>3</td>\n",
       "      <td>officious</td>\n",
       "      <td>adj.  好管闲事的；爱指手画脚\\n的</td>\n",
       "    </tr>\n",
       "    <tr>\n",
       "      <th>146</th>\n",
       "      <td>3</td>\n",
       "      <td>perspicacity</td>\n",
       "      <td>n.  聪明，敏锐</td>\n",
       "    </tr>\n",
       "    <tr>\n",
       "      <th>130</th>\n",
       "      <td>3</td>\n",
       "      <td>plea</td>\n",
       "      <td>n.  恳求；请求</td>\n",
       "    </tr>\n",
       "    <tr>\n",
       "      <th>129</th>\n",
       "      <td>3</td>\n",
       "      <td>pine</td>\n",
       "      <td>v. 消瘦， 憔悴, v. 渴望， 苦苦\\n盼望（尤指不大可能拥有的\\n东西）</td>\n",
       "    </tr>\n",
       "    <tr>\n",
       "      <th>128</th>\n",
       "      <td>3</td>\n",
       "      <td>petition</td>\n",
       "      <td>n.  请愿，恳求</td>\n",
       "    </tr>\n",
       "    <tr>\n",
       "      <th>...</th>\n",
       "      <td>...</td>\n",
       "      <td>...</td>\n",
       "      <td>...</td>\n",
       "    </tr>\n",
       "    <tr>\n",
       "      <th>42</th>\n",
       "      <td>2</td>\n",
       "      <td>pontificate</td>\n",
       "      <td>v.  自负地谈论；武断地说话</td>\n",
       "    </tr>\n",
       "    <tr>\n",
       "      <th>63</th>\n",
       "      <td>2</td>\n",
       "      <td>penury</td>\n",
       "      <td>n.  拮据，贫穷</td>\n",
       "    </tr>\n",
       "    <tr>\n",
       "      <th>64</th>\n",
       "      <td>2</td>\n",
       "      <td>pensive</td>\n",
       "      <td>adj.  沉思的；忧思的</td>\n",
       "    </tr>\n",
       "    <tr>\n",
       "      <th>75</th>\n",
       "      <td>2</td>\n",
       "      <td>paragon</td>\n",
       "      <td>n.  典型，模范</td>\n",
       "    </tr>\n",
       "    <tr>\n",
       "      <th>76</th>\n",
       "      <td>2</td>\n",
       "      <td>panoramic</td>\n",
       "      <td>adj.  全景的；远景的</td>\n",
       "    </tr>\n",
       "  </tbody>\n",
       "</table>\n",
       "<p>100 rows × 3 columns</p>\n",
       "</div>"
      ],
      "text/plain": [
       "     count          word                                     mean\n",
       "0        3     officious                     adj.  好管闲事的；爱指手画脚\\n的\n",
       "146      3  perspicacity                                n.  聪明，敏锐\n",
       "130      3          plea                                n.  恳求；请求\n",
       "129      3          pine  v. 消瘦， 憔悴, v. 渴望， 苦苦\\n盼望（尤指不大可能拥有的\\n东西）\n",
       "128      3      petition                                n.  请愿，恳求\n",
       "..     ...           ...                                      ...\n",
       "42       2   pontificate                          v.  自负地谈论；武断地说话\n",
       "63       2        penury                                n.  拮据，贫穷\n",
       "64       2       pensive                            adj.  沉思的；忧思的\n",
       "75       2       paragon                                n.  典型，模范\n",
       "76       2     panoramic                            adj.  全景的；远景的\n",
       "\n",
       "[100 rows x 3 columns]"
      ]
     },
     "execution_count": 13,
     "metadata": {},
     "output_type": "execute_result"
    }
   ],
   "source": [
    "day8.sorting()"
   ]
  },
  {
   "cell_type": "code",
   "execution_count": 16,
   "metadata": {},
   "outputs": [
    {
     "name": "stdout",
     "output_type": "stream",
     "text": [
      "Excel update done!\n"
     ]
    }
   ],
   "source": [
    "day8.update_excel()"
   ]
  },
  {
   "cell_type": "code",
   "execution_count": 4,
   "metadata": {},
   "outputs": [],
   "source": [
    "di = '../2.新GRE官方词汇/分list Excel版 （每天300）/'"
   ]
  },
  {
   "cell_type": "code",
   "execution_count": null,
   "metadata": {},
   "outputs": [],
   "source": []
  }
 ],
 "metadata": {
  "kernelspec": {
   "display_name": "Python 3",
   "language": "python",
   "name": "python3"
  },
  "language_info": {
   "codemirror_mode": {
    "name": "ipython",
    "version": 3
   },
   "file_extension": ".py",
   "mimetype": "text/x-python",
   "name": "python",
   "nbconvert_exporter": "python",
   "pygments_lexer": "ipython3",
   "version": "3.7.6"
  }
 },
 "nbformat": 4,
 "nbformat_minor": 4
}
